{
 "cells": [
  {
   "cell_type": "code",
   "execution_count": 1,
   "metadata": {},
   "outputs": [],
   "source": [
    "# author : @mfteloglu\n",
    "\n",
    "import matplotlib.pyplot as plt\n",
    "import scipy\n",
    "from scipy.io import wavfile as wavfile\n",
    "import scipy.fftpack as fftpk\n",
    "import numpy as np\n",
    "import os\n",
    "import moviepy.editor as mpe \n",
    "import math\n"
   ]
  },
  {
   "cell_type": "code",
   "execution_count": 2,
   "metadata": {},
   "outputs": [],
   "source": [
    "# ---- Configuration ----\n",
    "\n",
    "# Enter song's path (wav only)\n",
    "path = 'tensecondsong.wav'\n",
    "# Enter fps \n",
    "fps = 10\n",
    "# Enter output file name\n",
    "output = \"outputfile.mp4\"\n"
   ]
  },
  {
   "cell_type": "code",
   "execution_count": 3,
   "metadata": {},
   "outputs": [],
   "source": [
    "# File has read\n",
    "rate, data = wavfile.read(path)\n",
    "duration = len(data)//rate\n",
    "\n",
    "if duration*fps > 400 :  # to avoid memory error\n",
    "    raise Exception(\"Please lower fps or decrease the length of the audio\")"
   ]
  },
  {
   "cell_type": "code",
   "execution_count": 4,
   "metadata": {},
   "outputs": [],
   "source": [
    "sampledata = np.zeros(rate//fps)\n",
    "imageslist = []\n",
    "\n",
    "# It is a two channel soundtrack so one channel is taken\n",
    "data1 = data.T[0]\n",
    "\n",
    "# Calculations for every frame\n",
    "for x in range(duration*fps):\n",
    "    #print('%d / %d' % (x,duration*fps))\n",
    "    # Related part from data samples are taken\n",
    "    sampledata = data1[x*(rate//fps) : (x+1)*(rate//fps)]\n",
    "    #print(sampledata)\n",
    "    \n",
    "    # FFT is calculated, abs function gives us magnitude\n",
    "    FFT = abs(scipy.fft.fft(sampledata))\n",
    "    \n",
    "    # Sample frequencies are calculated\n",
    "    freqs = fftpk.fftfreq(len(FFT), (1/(rate//fps)))\n",
    "    \n",
    "    # Logarithm operation for better representation\n",
    "    for z in range(rate//fps):\n",
    "        FFT[z] = 10*math.log(FFT[z]+0.000001,10)\n",
    "       \n",
    "    # Plotting the graphs\n",
    "    fig = plt.figure()\n",
    "    plt.plot(abs(freqs[range(len(freqs))]), abs(FFT[range(len(FFT))]))                                                         \n",
    "    plt.ylim([30, 100])\n",
    "    plt.xlim([0, 2000])\n",
    "    \n",
    "    # Saving graphs as images and adding them to list\n",
    "    fig.savefig('sample{}.png'.format(x))\n",
    "    imageslist.append('sample{}.png'.format(x))\n",
    "    plt.close(fig)\n"
   ]
  },
  {
   "cell_type": "code",
   "execution_count": 5,
   "metadata": {},
   "outputs": [
    {
     "name": "stderr",
     "output_type": "stream",
     "text": [
      "t:  12%|███████▉                                                           | 13/110 [00:00<00:00, 127.79it/s, now=None]"
     ]
    },
    {
     "name": "stdout",
     "output_type": "stream",
     "text": [
      "Moviepy - Building video tempvideo.mp4.\n",
      "Moviepy - Writing video tempvideo.mp4\n",
      "\n"
     ]
    },
    {
     "name": "stderr",
     "output_type": "stream",
     "text": [
      "                                                                                                                       "
     ]
    },
    {
     "name": "stdout",
     "output_type": "stream",
     "text": [
      "Moviepy - Done !\n",
      "Moviepy - video ready tempvideo.mp4\n"
     ]
    },
    {
     "name": "stderr",
     "output_type": "stream",
     "text": [
      "\r"
     ]
    }
   ],
   "source": [
    "# Creating the video from list of images\n",
    "clip = mpe.ImageSequenceClip(imageslist,fps=fps)\n",
    "clip.write_videofile('tempvideo.mp4', codec = 'mpeg4')"
   ]
  },
  {
   "cell_type": "code",
   "execution_count": 6,
   "metadata": {},
   "outputs": [
    {
     "name": "stderr",
     "output_type": "stream",
     "text": [
      "chunk:  11%|███████▏                                                       | 28/245 [00:00<00:00, 225.00it/s, now=None]"
     ]
    },
    {
     "name": "stdout",
     "output_type": "stream",
     "text": [
      "Moviepy - Building video outputfile.mp4.\n",
      "MoviePy - Writing audio in outputfileTEMP_MPY_wvf_snd.mp3\n"
     ]
    },
    {
     "name": "stderr",
     "output_type": "stream",
     "text": [
      "t:  26%|█████████████████▋                                                 | 29/110 [00:00<00:00, 289.29it/s, now=None]"
     ]
    },
    {
     "name": "stdout",
     "output_type": "stream",
     "text": [
      "MoviePy - Done.\n",
      "Moviepy - Writing video outputfile.mp4\n",
      "\n"
     ]
    },
    {
     "name": "stderr",
     "output_type": "stream",
     "text": [
      "                                                                                                                       \r"
     ]
    },
    {
     "name": "stdout",
     "output_type": "stream",
     "text": [
      "Moviepy - Done !\n",
      "Moviepy - video ready outputfile.mp4\n"
     ]
    }
   ],
   "source": [
    "# Adding background music\n",
    "my_clip= mpe.VideoFileClip('tempvideo.mp4')\n",
    "audio_background = mpe.AudioFileClip(path)\n",
    "final_clip = my_clip.set_audio(audio_background)\n",
    "final_clip.write_videofile(output)"
   ]
  },
  {
   "cell_type": "code",
   "execution_count": 7,
   "metadata": {},
   "outputs": [],
   "source": [
    "# Deletes images to prevent mess ( not working constantly )\n",
    "for t in range(duration*fps):\n",
    "    #print('%d / %d' % (t,duration*fps))\n",
    "    filename = 'sample' + str(t) + '.png'\n",
    "    try:\n",
    "        os.remove(filename)\n",
    "    except: pass"
   ]
  },
  {
   "cell_type": "code",
   "execution_count": 9,
   "metadata": {},
   "outputs": [
    {
     "data": {
      "text/html": [
       "<video src=\"outputfile.mp4\" controls  >\n",
       "      Your browser does not support the <code>video</code> element.\n",
       "    </video>"
      ],
      "text/plain": [
       "<IPython.core.display.Video object>"
      ]
     },
     "execution_count": 9,
     "metadata": {},
     "output_type": "execute_result"
    }
   ],
   "source": [
    "# Display the video\n",
    "from IPython.display import Video\n",
    "Video(output)"
   ]
  },
  {
   "cell_type": "code",
   "execution_count": null,
   "metadata": {},
   "outputs": [],
   "source": []
  }
 ],
 "metadata": {
  "kernelspec": {
   "display_name": "Python 3",
   "language": "python",
   "name": "python3"
  },
  "language_info": {
   "codemirror_mode": {
    "name": "ipython",
    "version": 3
   },
   "file_extension": ".py",
   "mimetype": "text/x-python",
   "name": "python",
   "nbconvert_exporter": "python",
   "pygments_lexer": "ipython3",
   "version": "3.8.0"
  }
 },
 "nbformat": 4,
 "nbformat_minor": 4
}
